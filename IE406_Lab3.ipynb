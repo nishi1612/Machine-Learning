{
  "nbformat": 4,
  "nbformat_minor": 0,
  "metadata": {
    "colab": {
      "name": "IE406-Lab3.ipynb",
      "version": "0.3.2",
      "provenance": [],
      "collapsed_sections": [],
      "include_colab_link": true
    },
    "kernelspec": {
      "name": "python3",
      "display_name": "Python 3"
    }
  },
  "cells": [
    {
      "cell_type": "markdown",
      "metadata": {
        "id": "view-in-github",
        "colab_type": "text"
      },
      "source": [
        "<a href=\"https://colab.research.google.com/github/nishi1612/Machine-Learning/blob/master/IE406_Lab3.ipynb\" target=\"_parent\"><img src=\"https://colab.research.google.com/assets/colab-badge.svg\" alt=\"Open In Colab\"/></a>"
      ]
    },
    {
      "cell_type": "code",
      "metadata": {
        "id": "CRQ2cik60Rb6",
        "colab_type": "code",
        "colab": {}
      },
      "source": [
        "!pip install -U -q PyDrive\n",
        "from pydrive.auth import GoogleAuth\n",
        "from pydrive.drive import GoogleDrive\n",
        "from google.colab import auth\n",
        "from oauth2client.client import GoogleCredentials\n",
        "auth.authenticate_user()\n",
        "gauth = GoogleAuth()\n",
        "gauth.credentials = GoogleCredentials.get_application_default()\n",
        "drive = GoogleDrive(gauth)"
      ],
      "execution_count": 0,
      "outputs": []
    },
    {
      "cell_type": "code",
      "metadata": {
        "id": "Zi9eVp1H11j9",
        "colab_type": "code",
        "colab": {}
      },
      "source": [
        "import pandas as pd\n",
        "import matplotlib.pyplot as plt\n",
        "import numpy as np\n",
        "import random"
      ],
      "execution_count": 0,
      "outputs": []
    },
    {
      "cell_type": "code",
      "metadata": {
        "id": "Hiqeb8tO1Ha3",
        "colab_type": "code",
        "colab": {}
      },
      "source": [
        "id = \"1cO2syVjhONiY4ezuqQ-zWAKH4-9WstMy\"\n",
        "downloaded = drive.CreateFile({'id':id}) \n",
        "downloaded.GetContentFile('ex2data1-logistic.csv')  \n",
        "df1 = pd.read_csv('ex2data1-logistic.csv')"
      ],
      "execution_count": 0,
      "outputs": []
    },
    {
      "cell_type": "code",
      "metadata": {
        "id": "lgAn7HeL14SA",
        "colab_type": "code",
        "colab": {}
      },
      "source": [
        "id = \"1Ksk651w-gt7D553Ie2UL9cTccRJW4fzk\"\n",
        "downloaded = drive.CreateFile({'id':id}) \n",
        "downloaded.GetContentFile('ex2data2-logistic.csv')  \n",
        "df2 = pd.read_csv('ex2data2-logistic.csv')"
      ],
      "execution_count": 0,
      "outputs": []
    },
    {
      "cell_type": "code",
      "metadata": {
        "id": "ak1bKEEB2guh",
        "colab_type": "code",
        "outputId": "ac36cccf-99c5-4728-a2fb-3f210cdf5208",
        "colab": {
          "base_uri": "https://localhost:8080/",
          "height": 204
        }
      },
      "source": [
        "df1.head(5)"
      ],
      "execution_count": 0,
      "outputs": [
        {
          "output_type": "execute_result",
          "data": {
            "text/html": [
              "<div>\n",
              "<style scoped>\n",
              "    .dataframe tbody tr th:only-of-type {\n",
              "        vertical-align: middle;\n",
              "    }\n",
              "\n",
              "    .dataframe tbody tr th {\n",
              "        vertical-align: top;\n",
              "    }\n",
              "\n",
              "    .dataframe thead th {\n",
              "        text-align: right;\n",
              "    }\n",
              "</style>\n",
              "<table border=\"1\" class=\"dataframe\">\n",
              "  <thead>\n",
              "    <tr style=\"text-align: right;\">\n",
              "      <th></th>\n",
              "      <th>x1</th>\n",
              "      <th>x2</th>\n",
              "      <th>y</th>\n",
              "    </tr>\n",
              "  </thead>\n",
              "  <tbody>\n",
              "    <tr>\n",
              "      <th>0</th>\n",
              "      <td>34.623660</td>\n",
              "      <td>78.024693</td>\n",
              "      <td>0</td>\n",
              "    </tr>\n",
              "    <tr>\n",
              "      <th>1</th>\n",
              "      <td>30.286711</td>\n",
              "      <td>43.894998</td>\n",
              "      <td>0</td>\n",
              "    </tr>\n",
              "    <tr>\n",
              "      <th>2</th>\n",
              "      <td>35.847409</td>\n",
              "      <td>72.902198</td>\n",
              "      <td>0</td>\n",
              "    </tr>\n",
              "    <tr>\n",
              "      <th>3</th>\n",
              "      <td>60.182599</td>\n",
              "      <td>86.308552</td>\n",
              "      <td>1</td>\n",
              "    </tr>\n",
              "    <tr>\n",
              "      <th>4</th>\n",
              "      <td>79.032736</td>\n",
              "      <td>75.344376</td>\n",
              "      <td>1</td>\n",
              "    </tr>\n",
              "  </tbody>\n",
              "</table>\n",
              "</div>"
            ],
            "text/plain": [
              "          x1         x2  y\n",
              "0  34.623660  78.024693  0\n",
              "1  30.286711  43.894998  0\n",
              "2  35.847409  72.902198  0\n",
              "3  60.182599  86.308552  1\n",
              "4  79.032736  75.344376  1"
            ]
          },
          "metadata": {
            "tags": []
          },
          "execution_count": 17
        }
      ]
    },
    {
      "cell_type": "code",
      "metadata": {
        "id": "q5EOYJPI23sM",
        "colab_type": "code",
        "outputId": "55edb6f2-91b9-4cb3-c07e-7a18d048160b",
        "colab": {
          "base_uri": "https://localhost:8080/",
          "height": 204
        }
      },
      "source": [
        "df2.head(5)"
      ],
      "execution_count": 0,
      "outputs": [
        {
          "output_type": "execute_result",
          "data": {
            "text/html": [
              "<div>\n",
              "<style scoped>\n",
              "    .dataframe tbody tr th:only-of-type {\n",
              "        vertical-align: middle;\n",
              "    }\n",
              "\n",
              "    .dataframe tbody tr th {\n",
              "        vertical-align: top;\n",
              "    }\n",
              "\n",
              "    .dataframe thead th {\n",
              "        text-align: right;\n",
              "    }\n",
              "</style>\n",
              "<table border=\"1\" class=\"dataframe\">\n",
              "  <thead>\n",
              "    <tr style=\"text-align: right;\">\n",
              "      <th></th>\n",
              "      <th>x1</th>\n",
              "      <th>x2</th>\n",
              "      <th>y</th>\n",
              "    </tr>\n",
              "  </thead>\n",
              "  <tbody>\n",
              "    <tr>\n",
              "      <th>0</th>\n",
              "      <td>0.051267</td>\n",
              "      <td>0.69956</td>\n",
              "      <td>1</td>\n",
              "    </tr>\n",
              "    <tr>\n",
              "      <th>1</th>\n",
              "      <td>-0.092742</td>\n",
              "      <td>0.68494</td>\n",
              "      <td>1</td>\n",
              "    </tr>\n",
              "    <tr>\n",
              "      <th>2</th>\n",
              "      <td>-0.213710</td>\n",
              "      <td>0.69225</td>\n",
              "      <td>1</td>\n",
              "    </tr>\n",
              "    <tr>\n",
              "      <th>3</th>\n",
              "      <td>-0.375000</td>\n",
              "      <td>0.50219</td>\n",
              "      <td>1</td>\n",
              "    </tr>\n",
              "    <tr>\n",
              "      <th>4</th>\n",
              "      <td>-0.513250</td>\n",
              "      <td>0.46564</td>\n",
              "      <td>1</td>\n",
              "    </tr>\n",
              "  </tbody>\n",
              "</table>\n",
              "</div>"
            ],
            "text/plain": [
              "         x1       x2  y\n",
              "0  0.051267  0.69956  1\n",
              "1 -0.092742  0.68494  1\n",
              "2 -0.213710  0.69225  1\n",
              "3 -0.375000  0.50219  1\n",
              "4 -0.513250  0.46564  1"
            ]
          },
          "metadata": {
            "tags": []
          },
          "execution_count": 18
        }
      ]
    },
    {
      "cell_type": "code",
      "metadata": {
        "id": "_-ArUX5O25_L",
        "colab_type": "code",
        "outputId": "e52e8dd7-ecd5-4490-f4e6-aee51b29a795",
        "colab": {
          "base_uri": "https://localhost:8080/",
          "height": 34
        }
      },
      "source": [
        "df1.index"
      ],
      "execution_count": 0,
      "outputs": [
        {
          "output_type": "execute_result",
          "data": {
            "text/plain": [
              "RangeIndex(start=0, stop=100, step=1)"
            ]
          },
          "metadata": {
            "tags": []
          },
          "execution_count": 19
        }
      ]
    },
    {
      "cell_type": "code",
      "metadata": {
        "id": "TgPLXYpx28EA",
        "colab_type": "code",
        "outputId": "69739dba-6dba-43f8-a668-b32170bc57be",
        "colab": {
          "base_uri": "https://localhost:8080/",
          "height": 34
        }
      },
      "source": [
        "df2.index"
      ],
      "execution_count": 0,
      "outputs": [
        {
          "output_type": "execute_result",
          "data": {
            "text/plain": [
              "RangeIndex(start=0, stop=118, step=1)"
            ]
          },
          "metadata": {
            "tags": []
          },
          "execution_count": 20
        }
      ]
    },
    {
      "cell_type": "code",
      "metadata": {
        "id": "GJruSB5U29qj",
        "colab_type": "code",
        "colab": {}
      },
      "source": [
        "def plot(df):\n",
        "  x1_1 = df['x1']\n",
        "  x2_1 = df['x2']\n",
        "  y_1 = df['y']\n",
        "  for i in range(len(x1_1)):\n",
        "    if(y_1[i]==0):\n",
        "      plt.scatter(x1_1[i],x2_1[i],color='red')\n",
        "    else:\n",
        "      plt.scatter(x1_1[i],x2_1[i],color='blue')\n",
        "  plt.xlabel('$x1$')\n",
        "  plt.ylabel('$x2$')\n",
        "  plt.show()"
      ],
      "execution_count": 0,
      "outputs": []
    },
    {
      "cell_type": "code",
      "metadata": {
        "id": "WE1C0jII3kWD",
        "colab_type": "code",
        "outputId": "020eb546-7c83-414b-ebee-6c523ed71260",
        "colab": {
          "base_uri": "https://localhost:8080/",
          "height": 553
        }
      },
      "source": [
        "plot(df1)\n",
        "plot(df2)"
      ],
      "execution_count": 0,
      "outputs": [
        {
          "output_type": "display_data",
          "data": {
            "image/png": "[encoded data removed]",
            "text/plain": [
              "<Figure size 432x288 with 1 Axes>"
            ]
          },
          "metadata": {
            "tags": []
          }
        },
        {
          "output_type": "display_data",
          "data": {
            "image/png": "[encoded data removed]",
            "text/plain": [
              "<Figure size 432x288 with 1 Axes>"
            ]
          },
          "metadata": {
            "tags": []
          }
        }
      ]
    },
    {
      "cell_type": "code",
      "metadata": {
        "id": "Yt1nHkgC34RI",
        "colab_type": "code",
        "colab": {}
      },
      "source": [
        "def sigmoid(z):\n",
        "  return 1/(1+np.exp(-z))"
      ],
      "execution_count": 0,
      "outputs": []
    },
    {
      "cell_type": "code",
      "metadata": {
        "id": "Ywvd33uq4grI",
        "colab_type": "code",
        "colab": {}
      },
      "source": [
        "def logistic_cost(y_actual,y_predicted):\n",
        "  return np.sum(((-y_actual*np.log(y_predicted)) - ((1-y_actual)*np.log(1-y_predicted))))/y_predicted.shape[0]"
      ],
      "execution_count": 0,
      "outputs": []
    },
    {
      "cell_type": "code",
      "metadata": {
        "id": "8YKm1omL4ivB",
        "colab_type": "code",
        "colab": {}
      },
      "source": [
        "def logistic_output(X,theta):\n",
        "  t = sigmoid(np.dot(X,theta))\n",
        "  for i in range(t.shape[0]):\n",
        "    if(t[i]<0.5):\n",
        "      t[i]=0\n",
        "    else:\n",
        "      t[i]=1\n",
        "  return t"
      ],
      "execution_count": 0,
      "outputs": []
    },
    {
      "cell_type": "code",
      "metadata": {
        "id": "3QV91pjp4q__",
        "colab_type": "code",
        "colab": {}
      },
      "source": [
        "def logistic_gradient_descent(X,Y,rate):\n",
        "  epochs = 100000\n",
        "  alphas = [rate]\n",
        "  for alpha in alphas:\n",
        "    theta = np.zeros((3,1))\n",
        "    x0 = X[:,0]*theta[0]\n",
        "    x1 = X[:,1]*theta[1]\n",
        "    x2 = X[:,2]*theta[2]\n",
        "    h = sigmoid(x0+x1+x2)\n",
        "    cost = np.zeros((epochs,1))\n",
        "    for i in range(epochs):\n",
        "      theta[0] = theta[0] - alpha*np.sum(h-Y)/X.shape[0]\n",
        "      for j in range(1,X.shape[1]):\n",
        "        theta[j] = theta[j] - alpha/X.shape[0] * np.sum((h-Y)*X[:,j])\n",
        "        x0 = X[:,0]*theta[0]\n",
        "        x1 = X[:,1]*theta[1]\n",
        "        x2 = X[:,2]*theta[2]\n",
        "        h = sigmoid(x0+x1+x2)\n",
        "      cost[i] = logistic_cost(Y,h)\n",
        "      if(i>0 and cost[i]>cost[i-1]):\n",
        "        epochs = i\n",
        "        break\n",
        "      if(i%10000==0):\n",
        "        print(\"Epoch : \" , i , \" Cost : \" , cost[i])\n",
        "    plt.plot(np.arange(epochs),cost[:epochs])\n",
        "    plt.xlabel('Epochs')\n",
        "    plt.ylabel('Cost')\n",
        "    plt.title('Cost v/s Epoch for gradient descent')\n",
        "    plt.show()\n",
        "    if(alpha==rate):\n",
        "      return theta"
      ],
      "execution_count": 0,
      "outputs": []
    },
    {
      "cell_type": "code",
      "metadata": {
        "id": "PhcieNxC4uCw",
        "colab_type": "code",
        "colab": {}
      },
      "source": [
        "def perform_descent(df1,rate):\n",
        "  msk = random.sample(range(0,100),int(len(df1)*90/100))\n",
        "  vals = np.full((100,1),True)\n",
        "  for i in msk:\n",
        "    vals[i] = False\n",
        "  train_df1 = df1[~vals]\n",
        "  test_df1 = df1[vals]\n",
        "\n",
        "  X = np.zeros((len(train_df1['x1']),3))\n",
        "  X[:,0] = np.ones(len(train_df1['x1']))\n",
        "  X[:,1] = train_df1['x1']\n",
        "  X[:,2] = train_df1['x2']\n",
        "  Y = train_df1['y']\n",
        "  \n",
        "  theta = logistic_gradient_descent(X,Y,rate)\n",
        "  print(theta)\n",
        "  \n",
        "  X = np.zeros((len(test_df1['x1']),3))\n",
        "  X[:,0] = np.ones(len(test_df1['x1']))\n",
        "  X[:,1] = test_df1['x1']\n",
        "  X[:,2] = test_df1['x2']\n",
        "  Y = test_df1['y'].values\n",
        "\n",
        "  x0 = X[:,0]*theta[0]\n",
        "  x1 = X[:,1]*theta[1]\n",
        "  x2 = X[:,2]*theta[2]\n",
        "  h = sigmoid(x0+x1+x2)\n",
        "  count=0\n",
        "  for i in range(len(h)):\n",
        "    if(h[i]<0.5 and Y[i]==0):\n",
        "      count+=1\n",
        "    elif(h[i]>=0.5 and Y[i]==1):\n",
        "      count+=1\n",
        "  acc = count/len(h)\n",
        "  print(acc)"
      ],
      "execution_count": 0,
      "outputs": []
    },
    {
      "cell_type": "code",
      "metadata": {
        "id": "nCassvib66mp",
        "colab_type": "code",
        "outputId": "d76c0eae-0d13-44a1-da9a-87cd99048768",
        "colab": {
          "base_uri": "https://localhost:8080/",
          "height": 533
        }
      },
      "source": [
        "perform_descent(df1,0.001)"
      ],
      "execution_count": 0,
      "outputs": [
        {
          "output_type": "stream",
          "text": [
            "Epoch :  0  Cost :  [0.62644682]\n",
            "Epoch :  10000  Cost :  [0.57982922]\n",
            "Epoch :  20000  Cost :  [0.54070193]\n",
            "Epoch :  30000  Cost :  [0.50771031]\n",
            "Epoch :  40000  Cost :  [0.47973115]\n",
            "Epoch :  50000  Cost :  [0.4558354]\n",
            "Epoch :  60000  Cost :  [0.43527093]\n",
            "Epoch :  70000  Cost :  [0.41743565]\n",
            "Epoch :  80000  Cost :  [0.40184968]\n",
            "Epoch :  90000  Cost :  [0.38813035]\n"
          ],
          "name": "stdout"
        },
        {
          "output_type": "display_data",
          "data": {
            "image/png": "[encoded data removed]",
            "text/plain": [
              "<Figure size 432x288 with 1 Axes>"
            ]
          },
          "metadata": {
            "tags": []
          }
        },
        {
          "output_type": "stream",
          "text": [
            "[[-4.88833494]\n",
            " [ 0.04749026]\n",
            " [ 0.03769376]]\n",
            "0.7142857142857143\n"
          ],
          "name": "stdout"
        }
      ]
    },
    {
      "cell_type": "code",
      "metadata": {
        "id": "kWYJ960NOFY3",
        "colab_type": "code",
        "colab": {}
      },
      "source": [
        "def logistic_gradient_descent(X,Y,rate):\n",
        "  epochs = 100000\n",
        "  alphas = [rate]\n",
        "  for alpha in alphas:\n",
        "    theta = np.zeros((3,1))\n",
        "    x0 = X[:,0]*theta[0]\n",
        "    # x1 = X[:,1]*theta[1]\n",
        "    # x2 = X[:,2]*theta[2]\n",
        "    x1 = X[:,1]**2 * theta[1]\n",
        "    x2 = X[:,2]**2 * theta[2]\n",
        "    # x5 = np.dot(X[:,1],X[:,2]) * theta[5]\n",
        "    h = sigmoid(x0+x1+x2)\n",
        "    cost = np.random.random((epochs,1))\n",
        "    for i in range(epochs):\n",
        "      theta[0] = theta[0] - alpha*np.sum(h-Y)/X.shape[0]\n",
        "      # theta[1] = theta[1] - alpha/X.shape[0] * np.sum((h-Y)*X[:,1])\n",
        "      # theta[2] = theta[2] - alpha/X.shape[0] * np.sum((h-Y)*X[:,2])\n",
        "      theta[1] = theta[1] - alpha/X.shape[0] * np.sum((h-Y)*X[:,1]**2)\n",
        "      theta[2] = theta[2] - alpha/X.shape[0] * np.sum((h-Y)*X[:,2]**2)\n",
        "      # theta[5] = theta[5] - alpha/X.shape[0] * np.sum((h-Y)*np.dot(X[:,1],X[:,2]))\n",
        "      x0 = X[:,0]*theta[0]\n",
        "      # x1 = X[:,1]*theta[1]\n",
        "      # x2 = X[:,2]*theta[2]\n",
        "      x1 = X[:,1]**2 * theta[1]\n",
        "      x2 = X[:,2]**2 * theta[2]\n",
        "      # x5 = np.dot(X[:,1],X[:,2]) * theta[5]\n",
        "      h = sigmoid(x0+x1+x2)\n",
        "      cost[i] = logistic_cost(Y,h)\n",
        "      if(i>0 and cost[i]>cost[i-1]):\n",
        "        epochs = i\n",
        "        break\n",
        "      if(i%10000==0):\n",
        "        print(\"Epoch : \" , i , \" Cost : \" , cost[i])\n",
        "    plt.plot(np.arange(epochs),cost[:epochs])\n",
        "    plt.xlabel('Epochs')\n",
        "    plt.ylabel('Cost')\n",
        "    plt.title('Cost v/s Epoch for gradient descent')\n",
        "    plt.show()\n",
        "    if(alpha==rate):\n",
        "      return theta"
      ],
      "execution_count": 0,
      "outputs": []
    },
    {
      "cell_type": "code",
      "metadata": {
        "id": "w28cRZTqOJL3",
        "colab_type": "code",
        "colab": {}
      },
      "source": [
        "def perform_descent(df1,rate):\n",
        "  msk = random.sample(range(0,100),int(len(df1)*90/100))\n",
        "  vals = np.full((100,1),True)\n",
        "  for i in msk:\n",
        "    vals[i] = False\n",
        "  train_df1 = df1[~vals]\n",
        "  test_df1 = df1[vals]\n",
        "\n",
        "  X = np.zeros((len(train_df1['x1']),3))\n",
        "  X[:,0] = np.ones(len(train_df1['x1']))\n",
        "  X[:,1] = train_df1['x1']\n",
        "  X[:,2] = train_df1['x2']\n",
        "  Y = train_df1['y']\n",
        "  \n",
        "  theta = logistic_gradient_descent(X,Y,rate)\n",
        "  print(theta)\n",
        "  \n",
        "  X = np.zeros((len(test_df1['x1']),3))\n",
        "  X[:,0] = np.ones(len(test_df1['x1']))\n",
        "  X[:,1] = test_df1['x1']\n",
        "  X[:,2] = test_df1['x2']\n",
        "  Y = test_df1['y'].values\n",
        "\n",
        "  x0 = X[:,0]*theta[0]\n",
        "  # x1 = X[:,1]*theta[1]\n",
        "  # x2 = X[:,2]*theta[2]\n",
        "  x1 = X[:,1]**2 * theta[1]\n",
        "  x2 = X[:,2]**2 * theta[2]\n",
        "  # x5 = np.dot(X[:,1],X[:,2]) * theta[5]\n",
        "  h = sigmoid(x0+x1+x2)\n",
        "  count=0\n",
        "  for i in range(len(h)):\n",
        "    if(h[i]<0.5 and Y[i]==0):\n",
        "      count+=1\n",
        "    elif(h[i]>=0.5 and Y[i]==1):\n",
        "      count+=1\n",
        "  acc = count/len(h)\n",
        "  print(acc)"
      ],
      "execution_count": 0,
      "outputs": []
    },
    {
      "cell_type": "code",
      "metadata": {
        "id": "BFj6TkpXHplg",
        "colab_type": "code",
        "outputId": "ddf5c359-a76f-4c7f-fe8a-5e71c2c7c496",
        "colab": {
          "base_uri": "https://localhost:8080/",
          "height": 533
        }
      },
      "source": [
        "perform_descent(df2,0.01)"
      ],
      "execution_count": 17,
      "outputs": [
        {
          "output_type": "stream",
          "text": [
            "Epoch :  0  Cost :  [0.69311472]\n",
            "Epoch :  10000  Cost :  [0.56474625]\n",
            "Epoch :  20000  Cost :  [0.53921248]\n",
            "Epoch :  30000  Cost :  [0.53196222]\n",
            "Epoch :  40000  Cost :  [0.52950603]\n",
            "Epoch :  50000  Cost :  [0.52859268]\n",
            "Epoch :  60000  Cost :  [0.52823452]\n",
            "Epoch :  70000  Cost :  [0.52808953]\n",
            "Epoch :  80000  Cost :  [0.52802967]\n",
            "Epoch :  90000  Cost :  [0.52800465]\n"
          ],
          "name": "stdout"
        },
        {
          "output_type": "display_data",
          "data": {
            "image/png": "[encoded data removed]",
            "text/plain": [
              "<Figure size 432x288 with 1 Axes>"
            ]
          },
          "metadata": {
            "tags": []
          }
        },
        {
          "output_type": "stream",
          "text": [
            "[[ 2.38858087]\n",
            " [-5.60051649]\n",
            " [-3.69842856]]\n",
            "0.9166666666666666\n"
          ],
          "name": "stdout"
        }
      ]
    }
  ]
}